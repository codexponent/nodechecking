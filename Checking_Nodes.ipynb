{
 "cells": [
  {
   "cell_type": "markdown",
   "metadata": {},
   "source": [
    "### Checking the Nodes of the Protocol buf"
   ]
  },
  {
   "cell_type": "code",
   "execution_count": null,
   "metadata": {
    "collapsed": true
   },
   "outputs": [],
   "source": [
    "import tensorflow as tf \n",
    "g = tf.GraphDef()\n",
    "g.ParseFromString(open('true_pb_files\\\\my_model_soft2.pb', 'rb').read())\n",
    "[n for n in g.node if n.name.find('conv2d_1_input') != -1] # same for output or any other node you want to make sure is ok"
   ]
  },
  {
   "cell_type": "code",
   "execution_count": 5,
   "metadata": {},
   "outputs": [
    {
     "data": {
      "text/plain": [
       "[name: \"activation_4/Softmax\"\n",
       " op: \"Softmax\"\n",
       " input: \"dense_2/BiasAdd\"\n",
       " attr {\n",
       "   key: \"T\"\n",
       "   value {\n",
       "     type: DT_FLOAT\n",
       "   }\n",
       " }]"
      ]
     },
     "execution_count": 5,
     "metadata": {},
     "output_type": "execute_result"
    }
   ],
   "source": [
    "g.ParseFromString(open('true_pb_files\\\\my_model_soft2.pb', 'rb').read())\n",
    "[n for n in g.node if n.name.find('activation_4/Softmax') != -1] # same for output or any other node you want to make sure is ok"
   ]
  },
  {
   "cell_type": "code",
   "execution_count": null,
   "metadata": {
    "collapsed": true
   },
   "outputs": [],
   "source": []
  }
 ],
 "metadata": {
  "kernelspec": {
   "display_name": "Python 3",
   "language": "python",
   "name": "python3"
  },
  "language_info": {
   "codemirror_mode": {
    "name": "ipython",
    "version": 3
   },
   "file_extension": ".py",
   "mimetype": "text/x-python",
   "name": "python",
   "nbconvert_exporter": "python",
   "pygments_lexer": "ipython3",
   "version": "3.6.1"
  }
 },
 "nbformat": 4,
 "nbformat_minor": 2
}
